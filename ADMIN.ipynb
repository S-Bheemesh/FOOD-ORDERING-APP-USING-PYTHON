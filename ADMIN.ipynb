{
 "cells": [
  {
   "cell_type": "code",
   "execution_count": 22,
   "id": "0eca4899",
   "metadata": {},
   "outputs": [
    {
     "name": "stdout",
     "output_type": "stream",
     "text": [
      "\u001b[1m\u001b[31mWELCOME TO MY HOTEL\u001b[0m\n",
      "Enter name of food : ROTI\n",
      "Enter Quantity : 2\n",
      "Enter Price : 30\n",
      "Enter Discount : 0\n",
      "Enter no.of Stock : 122\n",
      "----------------------MENU----------------------------\n",
      "+---------+------+----------+-------+----------+-------+\n",
      "| food_id | name | Quantity | Price | Discount | Stock |\n",
      "+---------+------+----------+-------+----------+-------+\n",
      "|    1    | ROTI |    2     |   30  |    0     |  122  |\n",
      "+---------+------+----------+-------+----------+-------+\n"
     ]
    }
   ],
   "source": [
    "import csv\n",
    "from prettytable import PrettyTable \n",
    "from termcolor import colored\n",
    "\n",
    "class admin:\n",
    "    count=0\n",
    "    def __init__(self):\n",
    "        print(colored(\"WELCOME TO MY HOTEL\",\"red\",attrs=[\"bold\"]))\n",
    "        \n",
    "    def add_items(self):\n",
    "        self.count+=1      \n",
    "        self.food_id=self.count\n",
    "        self.name=input(\"Enter name of food : \")\n",
    "        self.Quantity=input(\"Enter Quantity : \")\n",
    "        self.Price=input(\"Enter Price : \")\n",
    "        self.Discount=input(\"Enter Discount : \")\n",
    "        self.Stock=input(\"Enter no.of Stock : \")\n",
    "        with open(\"MENU.csv\",\"a\",newline=\"\") as menu:\n",
    "            write=csv.writer(menu)\n",
    "            write.writerow([self.food_id,self.name,self.Quantity,self.Price,self.Discount,self.Stock])\n",
    "        \n",
    "    def edit_menu(self):\n",
    "        with open('MENU.csv', 'r') as csvfile:\n",
    "            reader = csv.reader(csvfile)\n",
    "            rows = list(reader)\n",
    "        \n",
    "        edit_id =input(\"Enter the id of item you wamnt to change : \")\n",
    "        for i,row in enumerate(rows):\n",
    "            if row[0] == edit_id:\n",
    "                print(f\"You are editing item '{row[1]}'\")\n",
    "                self.name=input(\"Enter new  food : \")\n",
    "                self.Quantity=input(\"Enter new Quantity : \")\n",
    "                self.Price=input(\"Enter new Price : \")\n",
    "                self.Discount=input(\"Enter new Discount : \") \n",
    "                self.Stock=input(\"Enter new no.of Stock : \")\n",
    "                new_values = [edit_id,self.name,self.Quantity,self.Price,self.Discount,self.Stock]\n",
    "                rows[i] = new_values\n",
    "                \n",
    "        with open('MENU.csv', 'w', newline='') as csvfile:\n",
    "            writer = csv.writer(csvfile)\n",
    "            writer.writerows(rows)\n",
    "            \n",
    "    def view_menu(self):\n",
    "        tbl=PrettyTable([\"food_id\",\"name\",\"Quantity\",\"Price\",\"Discount\",\"Stock\"])\n",
    "        print(\"----------------------MENU----------------------------\")\n",
    "        with open(\"MENU.csv\",\"r\") as menu:\n",
    "            data=csv.reader(menu)\n",
    "            for row in data:\n",
    "                tbl.add_row(row)\n",
    "                tbl.horizontal_char=\"-\"\n",
    "                tbl.verticle_char=\"|\"\n",
    "                tbl.junction_char=\"+\"\n",
    "            print(tbl)\n",
    "            \n",
    "    def remove_item(self):\n",
    "        self.remove_id=input(\"Enter id of food item you want to remove : \")\n",
    "        with open(\"MENU.csv\",\"r\") as menu:\n",
    "            data=csv.reader(menu)\n",
    "            rows=list(data)\n",
    "            print(rows)\n",
    "            \n",
    "        for i,val in enumerate(rows):\n",
    "            if val[0]==self.remove_id:\n",
    "                rows.pop(i)\n",
    "                    \n",
    "        with open(\"MENU.csv\",\"w+\",newline=\"\") as menu:\n",
    "            write=csv.writer(menu)\n",
    "            write.writerows(rows)\n",
    "            \n",
    "        \n",
    "    \n",
    "obj=admin()\n",
    "obj.add_items()\n",
    "obj.view_menu()\n"
   ]
  },
  {
   "cell_type": "code",
   "execution_count": 23,
   "id": "61558863",
   "metadata": {},
   "outputs": [
    {
     "name": "stdout",
     "output_type": "stream",
     "text": [
      "Enter name of food : CHAPATI\n",
      "Enter Quantity : 2\n",
      "Enter Price : 30\n",
      "Enter Discount : 0\n",
      "Enter no.of Stock : 111\n"
     ]
    }
   ],
   "source": [
    "obj.add_items()"
   ]
  },
  {
   "cell_type": "code",
   "execution_count": 24,
   "id": "da8d135e",
   "metadata": {},
   "outputs": [
    {
     "name": "stdout",
     "output_type": "stream",
     "text": [
      "Enter name of food : MUDDE\n",
      "Enter Quantity : 2\n",
      "Enter Price : 30\n",
      "Enter Discount : 11\n",
      "Enter no.of Stock : 122\n"
     ]
    }
   ],
   "source": [
    "obj.add_items()"
   ]
  },
  {
   "cell_type": "code",
   "execution_count": 25,
   "id": "34842067",
   "metadata": {},
   "outputs": [
    {
     "name": "stdout",
     "output_type": "stream",
     "text": [
      "----------------------MENU----------------------------\n",
      "+---------+---------+----------+-------+----------+-------+\n",
      "| food_id |   name  | Quantity | Price | Discount | Stock |\n",
      "+---------+---------+----------+-------+----------+-------+\n",
      "|    1    |   ROTI  |    2     |   30  |    0     |  122  |\n",
      "|    2    | CHAPATI |    2     |   30  |    0     |  111  |\n",
      "|    3    |  MUDDE  |    2     |   30  |    11    |  122  |\n",
      "+---------+---------+----------+-------+----------+-------+\n"
     ]
    }
   ],
   "source": [
    "obj.view_menu()"
   ]
  },
  {
   "cell_type": "code",
   "execution_count": 26,
   "id": "4ae7df63",
   "metadata": {},
   "outputs": [
    {
     "name": "stdout",
     "output_type": "stream",
     "text": [
      "Enter id of food item you want to remove : 3\n",
      "[['1', 'ROTI', '2', '30', '0', '122'], ['2', 'CHAPATI', '2', '30', '0', '111'], ['3', 'MUDDE', '2', '30', '11', '122']]\n",
      "----------------------MENU----------------------------\n",
      "+---------+---------+----------+-------+----------+-------+\n",
      "| food_id |   name  | Quantity | Price | Discount | Stock |\n",
      "+---------+---------+----------+-------+----------+-------+\n",
      "|    1    |   ROTI  |    2     |   30  |    0     |  122  |\n",
      "|    2    | CHAPATI |    2     |   30  |    0     |  111  |\n",
      "+---------+---------+----------+-------+----------+-------+\n"
     ]
    }
   ],
   "source": [
    "obj.remove_item()\n",
    "obj.view_menu()"
   ]
  },
  {
   "cell_type": "code",
   "execution_count": 27,
   "id": "f9cb0331",
   "metadata": {},
   "outputs": [
    {
     "name": "stdout",
     "output_type": "stream",
     "text": [
      "Enter name of food : SAMOSA\n",
      "Enter Quantity : 2\n",
      "Enter Price : 30\n",
      "Enter Discount : 0\n",
      "Enter no.of Stock : 11\n"
     ]
    }
   ],
   "source": [
    "obj.add_items()"
   ]
  },
  {
   "cell_type": "code",
   "execution_count": 28,
   "id": "7d8d4558",
   "metadata": {},
   "outputs": [
    {
     "name": "stdout",
     "output_type": "stream",
     "text": [
      "----------------------MENU----------------------------\n",
      "+---------+---------+----------+-------+----------+-------+\n",
      "| food_id |   name  | Quantity | Price | Discount | Stock |\n",
      "+---------+---------+----------+-------+----------+-------+\n",
      "|    1    |   ROTI  |    2     |   30  |    0     |  122  |\n",
      "|    2    | CHAPATI |    2     |   30  |    0     |  111  |\n",
      "|    4    |  SAMOSA |    2     |   30  |    0     |   11  |\n",
      "+---------+---------+----------+-------+----------+-------+\n"
     ]
    }
   ],
   "source": [
    "obj.view_menu()"
   ]
  },
  {
   "cell_type": "code",
   "execution_count": 29,
   "id": "1a00ba66",
   "metadata": {},
   "outputs": [
    {
     "name": "stdout",
     "output_type": "stream",
     "text": [
      "Enter name of food : PIZZA\n",
      "Enter Quantity : 2\n",
      "Enter Price : 100\n",
      "Enter Discount : 0\n",
      "Enter no.of Stock : 222\n",
      "----------------------MENU----------------------------\n",
      "+---------+---------+----------+-------+----------+-------+\n",
      "| food_id |   name  | Quantity | Price | Discount | Stock |\n",
      "+---------+---------+----------+-------+----------+-------+\n",
      "|    1    |   ROTI  |    2     |   30  |    0     |  122  |\n",
      "|    2    | CHAPATI |    2     |   30  |    0     |  111  |\n",
      "|    4    |  SAMOSA |    2     |   30  |    0     |   11  |\n",
      "|    5    |  PIZZA  |    2     |  100  |    0     |  222  |\n",
      "+---------+---------+----------+-------+----------+-------+\n"
     ]
    }
   ],
   "source": [
    "obj.add_items()\n",
    "obj.view_menu()"
   ]
  },
  {
   "cell_type": "code",
   "execution_count": 30,
   "id": "d1a9b3a7",
   "metadata": {},
   "outputs": [
    {
     "name": "stdout",
     "output_type": "stream",
     "text": [
      "Enter id of food item you want to remove : 4\n",
      "[['1', 'ROTI', '2', '30', '0', '122'], ['2', 'CHAPATI', '2', '30', '0', '111'], ['4', 'SAMOSA', '2', '30', '0', '11'], ['5', 'PIZZA', '2', '100', '0', '222']]\n",
      "----------------------MENU----------------------------\n",
      "+---------+---------+----------+-------+----------+-------+\n",
      "| food_id |   name  | Quantity | Price | Discount | Stock |\n",
      "+---------+---------+----------+-------+----------+-------+\n",
      "|    1    |   ROTI  |    2     |   30  |    0     |  122  |\n",
      "|    2    | CHAPATI |    2     |   30  |    0     |  111  |\n",
      "|    5    |  PIZZA  |    2     |  100  |    0     |  222  |\n",
      "+---------+---------+----------+-------+----------+-------+\n"
     ]
    }
   ],
   "source": [
    "obj.remove_item()\n",
    "obj.view_menu()"
   ]
  },
  {
   "cell_type": "code",
   "execution_count": null,
   "id": "19c0aa44",
   "metadata": {},
   "outputs": [],
   "source": []
  }
 ],
 "metadata": {
  "kernelspec": {
   "display_name": "Python 3 (ipykernel)",
   "language": "python",
   "name": "python3"
  },
  "language_info": {
   "codemirror_mode": {
    "name": "ipython",
    "version": 3
   },
   "file_extension": ".py",
   "mimetype": "text/x-python",
   "name": "python",
   "nbconvert_exporter": "python",
   "pygments_lexer": "ipython3",
   "version": "3.11.1"
  }
 },
 "nbformat": 4,
 "nbformat_minor": 5
}
